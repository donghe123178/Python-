{
 "cells": [
  {
   "cell_type": "markdown",
   "metadata": {},
   "source": [
    "## Python垃圾回收机制\n",
    "\n",
    "程序在运行的时候，需要在内存中开辟出一块空间，用于存放运行时产生的临时变量，计算完成后，再将结果输出到永久性存储器中，如果数据量过大，内存空间管理不善就很容易出现out of memory，爆内存，程序可能被操作系统中止。\n",
    "\n",
    "#### 内存泄露\n",
    "\n",
    "- 程序本身没有设计好，导致程序未能释放已不再使用的内存\n",
    "- 代码在分配了某段内存后，因为设计错误，失去了对这段内存的控制，从而造成了内存的浪费\n",
    "\n",
    "监控python程序内存占用情况，psutil库"
   ]
  },
  {
   "cell_type": "code",
   "execution_count": 2,
   "metadata": {},
   "outputs": [],
   "source": [
    "import os \n",
    "import psutil\n",
    "\n",
    "# 显示当前程序占用内存大小\n",
    "def show_memory_info(hint):\n",
    "    pid = os.getpid() # 获取当前进程号\n",
    "    p = psutil.Process(pid)\n",
    "    info = p.memory_info()\n",
    "    memory = info.rss / 1024. / 1024\n",
    "    print(f\"{hint} 内存用了：{memory}MB\")"
   ]
  },
  {
   "cell_type": "code",
   "execution_count": 11,
   "metadata": {},
   "outputs": [
    {
     "name": "stdout",
     "output_type": "stream",
     "text": [
      "内存用了：85.578125KB\n"
     ]
    }
   ],
   "source": [
    "import sys\n",
    "a = [i for i in range(10000)]\n",
    "memory = sys.getsizeof(a) / 1024\n",
    "print(f\"内存用了：{memory}KB\")"
   ]
  },
  {
   "cell_type": "markdown",
   "metadata": {},
   "source": [
    "#### Python什么时候启动垃圾回收机制？\n",
    "\n",
    "##### 计数引用\n",
    "\n",
    "python中一切皆对象，所看到的一切变量，本质上都是对象的一个指针，当这个对象的引用次数为0的时候，说明这个对象永不可达，成为需要被回收的垃圾"
   ]
  },
  {
   "cell_type": "code",
   "execution_count": 4,
   "metadata": {},
   "outputs": [
    {
     "name": "stdout",
     "output_type": "stream",
     "text": [
      "2\n",
      "4\n"
     ]
    }
   ],
   "source": [
    "# 查看引用次数\n",
    "import sys\n",
    "a = []\n",
    "print(sys.getrefcount(a)) # 两次引用，一次a,一次getr\n",
    "def func(a):\n",
    "    # 四次引用，函数调用会产生两次额外的引用，一次来自函数栈，另一个是函数参数\n",
    "    print(sys.getrefcount(a))\n",
    "func(a)"
   ]
  },
  {
   "cell_type": "code",
   "execution_count": 3,
   "metadata": {},
   "outputs": [
    {
     "name": "stdout",
     "output_type": "stream",
     "text": [
      "初始 内存用了：52.4609375MB\n",
      "创建之后 内存用了：91.921875MB\n",
      "结束之后 内存用了：53.80859375MB\n"
     ]
    }
   ],
   "source": [
    "def func():\n",
    "    show_memory_info('初始')\n",
    "    a = [i for i in range(1000000)] # 列表生成式\n",
    "    show_memory_info('创建之后')\n",
    "    \n",
    "func()\n",
    "show_memory_info('结束之后') # 内存即可被释放"
   ]
  },
  {
   "cell_type": "markdown",
   "metadata": {},
   "source": [
    "##### 循环引用\n",
    "- python中使用**标记清除算法和分代收集**，来启动针对循环引用的自动垃圾回收\n",
    "- 标记清除算法，图论中的不可达概念\n",
    "- 分代收集算法中每一代都有一个默认阈值，超过指定阈值之后就会启动垃圾回收，如果垃圾回收启动太频繁，会造成程序性能低下，分代收集为了提高性能，因此不立刻回收。"
   ]
  },
  {
   "cell_type": "code",
   "execution_count": 19,
   "metadata": {},
   "outputs": [
    {
     "name": "stdout",
     "output_type": "stream",
     "text": [
      "初始 内存用了：77.125MB\n",
      "创建之后 内存用了：163.8828125MB\n",
      "结束之后 内存用了：163.8828125MB\n"
     ]
    }
   ],
   "source": [
    "def func():\n",
    "    show_memory_info('初始')\n",
    "    a = [i for i in range(1000000)] # 列表生成式\n",
    "    b = [i for i in range(1000000)] # 列表生成式\n",
    "    show_memory_info('创建之后')\n",
    "    a.append(b)\n",
    "    b.append(a)\n",
    "\n",
    "func()\n",
    "show_memory_info('结束之后') # 可以看到循环引用之后，内存依旧被占用"
   ]
  },
  {
   "cell_type": "markdown",
   "metadata": {},
   "source": [
    "**显示调用gc.collect()来启动垃圾回收**"
   ]
  },
  {
   "cell_type": "code",
   "execution_count": 23,
   "metadata": {},
   "outputs": [
    {
     "name": "stdout",
     "output_type": "stream",
     "text": [
      "初始 内存用了：77.609375MB\n",
      "创建之后 内存用了：145.92578125MB\n",
      "结束之后 内存用了：77.609375MB\n"
     ]
    }
   ],
   "source": [
    "import gc\n",
    "\n",
    "def func():\n",
    "    show_memory_info('初始')\n",
    "    a = [i for i in range(1000000)] # 列表生成式\n",
    "    b = [i for i in range(1000000)] # 列表生成式\n",
    "    show_memory_info('创建之后')\n",
    "    a.append(b)\n",
    "    b.append(a)\n",
    "\n",
    "func()\n",
    "# 显示调用gc.collect()来启动垃圾回收\n",
    "gc.collect()\n",
    "show_memory_info('结束之后') "
   ]
  },
  {
   "cell_type": "markdown",
   "metadata": {},
   "source": [
    "##### 问题：引用计数是0是垃圾回收启动的充要条件吗？\n",
    "引用计数是其中最简单的实现，不是充要条件，只能算作充分非必要条件，循环引用需要通过不可达判定，来确定是否可以回收。python中自动回收算法包括标记清除算法和分代收集。"
   ]
  }
 ],
 "metadata": {
  "kernelspec": {
   "display_name": "Python 3",
   "language": "python",
   "name": "python3"
  },
  "language_info": {
   "codemirror_mode": {
    "name": "ipython",
    "version": 3
   },
   "file_extension": ".py",
   "mimetype": "text/x-python",
   "name": "python",
   "nbconvert_exporter": "python",
   "pygments_lexer": "ipython3",
   "version": "3.7.6"
  }
 },
 "nbformat": 4,
 "nbformat_minor": 4
}
